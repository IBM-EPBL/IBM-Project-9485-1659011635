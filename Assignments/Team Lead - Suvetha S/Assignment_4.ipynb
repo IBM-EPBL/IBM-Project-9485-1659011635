{
  "cells": [
    {
      "cell_type": "markdown",
      "source": [
        "# Assignment 4\n",
        "# Customer Segmentation Analysis"
      ],
      "metadata": {
        "id": "_OO4LjGztDCp"
      },
      "id": "_OO4LjGztDCp"
    },
    {
      "cell_type": "markdown",
      "source": [
        "# Importing Libraries"
      ],
      "metadata": {
        "id": "9iwaAAEHs7MS"
      },
      "id": "9iwaAAEHs7MS"
    },
    {
      "cell_type": "code",
      "execution_count": 1,
      "id": "0d2e8ebe",
      "metadata": {
        "id": "0d2e8ebe"
      },
      "outputs": [],
      "source": [
        "import pandas as pd\n",
        "import numpy as np\n",
        "import matplotlib.pyplot as plt\n",
        "import seaborn as sns"
      ]
    },
    {
      "cell_type": "markdown",
      "id": "476249e3",
      "metadata": {
        "id": "476249e3"
      },
      "source": [
        "# 1&2. Downloading and Loading the dataset"
      ]
    },
    {
      "cell_type": "code",
      "execution_count": 2,
      "id": "410fe354",
      "metadata": {
        "id": "410fe354"
      },
      "outputs": [],
      "source": [
        "data = pd.read_csv(r\"Mall_Customers.csv\")"
      ]
    },
    {
      "cell_type": "code",
      "execution_count": 3,
      "id": "8ccd3794",
      "metadata": {
        "colab": {
          "base_uri": "https://localhost:8080/",
          "height": 423
        },
        "id": "8ccd3794",
        "outputId": "6c8533c2-fc00-4176-8d7f-7b52c8637af5"
      },
      "outputs": [
        {
          "output_type": "execute_result",
          "data": {
            "text/plain": [
              "     CustomerID  Gender  Age  Annual Income (k$)  Spending Score (1-100)\n",
              "0             1    Male   19                  15                      39\n",
              "1             2    Male   21                  15                      81\n",
              "2             3  Female   20                  16                       6\n",
              "3             4  Female   23                  16                      77\n",
              "4             5  Female   31                  17                      40\n",
              "..          ...     ...  ...                 ...                     ...\n",
              "195         196  Female   35                 120                      79\n",
              "196         197  Female   45                 126                      28\n",
              "197         198    Male   32                 126                      74\n",
              "198         199    Male   32                 137                      18\n",
              "199         200    Male   30                 137                      83\n",
              "\n",
              "[200 rows x 5 columns]"
            ],
            "text/html": [
              "\n",
              "  <div id=\"df-b935dac4-8bf7-4e36-90e8-2d1a8b3dd90a\">\n",
              "    <div class=\"colab-df-container\">\n",
              "      <div>\n",
              "<style scoped>\n",
              "    .dataframe tbody tr th:only-of-type {\n",
              "        vertical-align: middle;\n",
              "    }\n",
              "\n",
              "    .dataframe tbody tr th {\n",
              "        vertical-align: top;\n",
              "    }\n",
              "\n",
              "    .dataframe thead th {\n",
              "        text-align: right;\n",
              "    }\n",
              "</style>\n",
              "<table border=\"1\" class=\"dataframe\">\n",
              "  <thead>\n",
              "    <tr style=\"text-align: right;\">\n",
              "      <th></th>\n",
              "      <th>CustomerID</th>\n",
              "      <th>Gender</th>\n",
              "      <th>Age</th>\n",
              "      <th>Annual Income (k$)</th>\n",
              "      <th>Spending Score (1-100)</th>\n",
              "    </tr>\n",
              "  </thead>\n",
              "  <tbody>\n",
              "    <tr>\n",
              "      <th>0</th>\n",
              "      <td>1</td>\n",
              "      <td>Male</td>\n",
              "      <td>19</td>\n",
              "      <td>15</td>\n",
              "      <td>39</td>\n",
              "    </tr>\n",
              "    <tr>\n",
              "      <th>1</th>\n",
              "      <td>2</td>\n",
              "      <td>Male</td>\n",
              "      <td>21</td>\n",
              "      <td>15</td>\n",
              "      <td>81</td>\n",
              "    </tr>\n",
              "    <tr>\n",
              "      <th>2</th>\n",
              "      <td>3</td>\n",
              "      <td>Female</td>\n",
              "      <td>20</td>\n",
              "      <td>16</td>\n",
              "      <td>6</td>\n",
              "    </tr>\n",
              "    <tr>\n",
              "      <th>3</th>\n",
              "      <td>4</td>\n",
              "      <td>Female</td>\n",
              "      <td>23</td>\n",
              "      <td>16</td>\n",
              "      <td>77</td>\n",
              "    </tr>\n",
              "    <tr>\n",
              "      <th>4</th>\n",
              "      <td>5</td>\n",
              "      <td>Female</td>\n",
              "      <td>31</td>\n",
              "      <td>17</td>\n",
              "      <td>40</td>\n",
              "    </tr>\n",
              "    <tr>\n",
              "      <th>...</th>\n",
              "      <td>...</td>\n",
              "      <td>...</td>\n",
              "      <td>...</td>\n",
              "      <td>...</td>\n",
              "      <td>...</td>\n",
              "    </tr>\n",
              "    <tr>\n",
              "      <th>195</th>\n",
              "      <td>196</td>\n",
              "      <td>Female</td>\n",
              "      <td>35</td>\n",
              "      <td>120</td>\n",
              "      <td>79</td>\n",
              "    </tr>\n",
              "    <tr>\n",
              "      <th>196</th>\n",
              "      <td>197</td>\n",
              "      <td>Female</td>\n",
              "      <td>45</td>\n",
              "      <td>126</td>\n",
              "      <td>28</td>\n",
              "    </tr>\n",
              "    <tr>\n",
              "      <th>197</th>\n",
              "      <td>198</td>\n",
              "      <td>Male</td>\n",
              "      <td>32</td>\n",
              "      <td>126</td>\n",
              "      <td>74</td>\n",
              "    </tr>\n",
              "    <tr>\n",
              "      <th>198</th>\n",
              "      <td>199</td>\n",
              "      <td>Male</td>\n",
              "      <td>32</td>\n",
              "      <td>137</td>\n",
              "      <td>18</td>\n",
              "    </tr>\n",
              "    <tr>\n",
              "      <th>199</th>\n",
              "      <td>200</td>\n",
              "      <td>Male</td>\n",
              "      <td>30</td>\n",
              "      <td>137</td>\n",
              "      <td>83</td>\n",
              "    </tr>\n",
              "  </tbody>\n",
              "</table>\n",
              "<p>200 rows × 5 columns</p>\n",
              "</div>\n",
              "      <button class=\"colab-df-convert\" onclick=\"convertToInteractive('df-b935dac4-8bf7-4e36-90e8-2d1a8b3dd90a')\"\n",
              "              title=\"Convert this dataframe to an interactive table.\"\n",
              "              style=\"display:none;\">\n",
              "        \n",
              "  <svg xmlns=\"http://www.w3.org/2000/svg\" height=\"24px\"viewBox=\"0 0 24 24\"\n",
              "       width=\"24px\">\n",
              "    <path d=\"M0 0h24v24H0V0z\" fill=\"none\"/>\n",
              "    <path d=\"M18.56 5.44l.94 2.06.94-2.06 2.06-.94-2.06-.94-.94-2.06-.94 2.06-2.06.94zm-11 1L8.5 8.5l.94-2.06 2.06-.94-2.06-.94L8.5 2.5l-.94 2.06-2.06.94zm10 10l.94 2.06.94-2.06 2.06-.94-2.06-.94-.94-2.06-.94 2.06-2.06.94z\"/><path d=\"M17.41 7.96l-1.37-1.37c-.4-.4-.92-.59-1.43-.59-.52 0-1.04.2-1.43.59L10.3 9.45l-7.72 7.72c-.78.78-.78 2.05 0 2.83L4 21.41c.39.39.9.59 1.41.59.51 0 1.02-.2 1.41-.59l7.78-7.78 2.81-2.81c.8-.78.8-2.07 0-2.86zM5.41 20L4 18.59l7.72-7.72 1.47 1.35L5.41 20z\"/>\n",
              "  </svg>\n",
              "      </button>\n",
              "      \n",
              "  <style>\n",
              "    .colab-df-container {\n",
              "      display:flex;\n",
              "      flex-wrap:wrap;\n",
              "      gap: 12px;\n",
              "    }\n",
              "\n",
              "    .colab-df-convert {\n",
              "      background-color: #E8F0FE;\n",
              "      border: none;\n",
              "      border-radius: 50%;\n",
              "      cursor: pointer;\n",
              "      display: none;\n",
              "      fill: #1967D2;\n",
              "      height: 32px;\n",
              "      padding: 0 0 0 0;\n",
              "      width: 32px;\n",
              "    }\n",
              "\n",
              "    .colab-df-convert:hover {\n",
              "      background-color: #E2EBFA;\n",
              "      box-shadow: 0px 1px 2px rgba(60, 64, 67, 0.3), 0px 1px 3px 1px rgba(60, 64, 67, 0.15);\n",
              "      fill: #174EA6;\n",
              "    }\n",
              "\n",
              "    [theme=dark] .colab-df-convert {\n",
              "      background-color: #3B4455;\n",
              "      fill: #D2E3FC;\n",
              "    }\n",
              "\n",
              "    [theme=dark] .colab-df-convert:hover {\n",
              "      background-color: #434B5C;\n",
              "      box-shadow: 0px 1px 3px 1px rgba(0, 0, 0, 0.15);\n",
              "      filter: drop-shadow(0px 1px 2px rgba(0, 0, 0, 0.3));\n",
              "      fill: #FFFFFF;\n",
              "    }\n",
              "  </style>\n",
              "\n",
              "      <script>\n",
              "        const buttonEl =\n",
              "          document.querySelector('#df-b935dac4-8bf7-4e36-90e8-2d1a8b3dd90a button.colab-df-convert');\n",
              "        buttonEl.style.display =\n",
              "          google.colab.kernel.accessAllowed ? 'block' : 'none';\n",
              "\n",
              "        async function convertToInteractive(key) {\n",
              "          const element = document.querySelector('#df-b935dac4-8bf7-4e36-90e8-2d1a8b3dd90a');\n",
              "          const dataTable =\n",
              "            await google.colab.kernel.invokeFunction('convertToInteractive',\n",
              "                                                     [key], {});\n",
              "          if (!dataTable) return;\n",
              "\n",
              "          const docLinkHtml = 'Like what you see? Visit the ' +\n",
              "            '<a target=\"_blank\" href=https://colab.research.google.com/notebooks/data_table.ipynb>data table notebook</a>'\n",
              "            + ' to learn more about interactive tables.';\n",
              "          element.innerHTML = '';\n",
              "          dataTable['output_type'] = 'display_data';\n",
              "          await google.colab.output.renderOutput(dataTable, element);\n",
              "          const docLink = document.createElement('div');\n",
              "          docLink.innerHTML = docLinkHtml;\n",
              "          element.appendChild(docLink);\n",
              "        }\n",
              "      </script>\n",
              "    </div>\n",
              "  </div>\n",
              "  "
            ]
          },
          "metadata": {},
          "execution_count": 3
        }
      ],
      "source": [
        "data"
      ]
    },
    {
      "cell_type": "markdown",
      "id": "42b7ea4f",
      "metadata": {
        "id": "42b7ea4f"
      },
      "source": [
        "# 3. Visualizing the analysis"
      ]
    },
    {
      "cell_type": "markdown",
      "id": "afc08813",
      "metadata": {
        "id": "afc08813"
      },
      "source": [
        "# 3.1 Univariate Analysis"
      ]
    },
    {
      "cell_type": "markdown",
      "source": [
        "**Hist Plot**"
      ],
      "metadata": {
        "id": "i5CQACPLqZlN"
      },
      "id": "i5CQACPLqZlN"
    },
    {
      "cell_type": "code",
      "execution_count": 4,
      "id": "282d775a",
      "metadata": {
        "colab": {
          "base_uri": "https://localhost:8080/",
          "height": 279
        },
        "id": "282d775a",
        "outputId": "ef9dace5-9b77-4da1-96a3-f1d3b3e12d91"
      },
      "outputs": [
        {
          "output_type": "display_data",
          "data": {
            "text/plain": [
              "<Figure size 432x288 with 1 Axes>"
            ],
            "image/png": "[encoded data removed]"
          },
          "metadata": {
            "needs_background": "light"
          }
        }
      ],
      "source": [
        "plt.hist(data['Age']);\n",
        "plt.xlabel('Age');\n",
        "plt.show();"
      ]
    },
    {
      "cell_type": "code",
      "execution_count": 5,
      "id": "77cde5cd",
      "metadata": {
        "colab": {
          "base_uri": "https://localhost:8080/",
          "height": 279
        },
        "id": "77cde5cd",
        "outputId": "d130d021-313e-42a2-a085-bcce64cf51bc"
      },
      "outputs": [
        {
          "output_type": "display_data",
          "data": {
            "text/plain": [
              "<Figure size 432x288 with 1 Axes>"
            ],
            "image/png": "[encoded data removed]"
          },
          "metadata": {
            "needs_background": "light"
          }
        }
      ],
      "source": [
        "plt.hist(data['Gender']);\n",
        "plt.xlabel('Gender');\n",
        "plt.show();"
      ]
    },
    {
      "cell_type": "code",
      "execution_count": 6,
      "id": "4476bc71",
      "metadata": {
        "colab": {
          "base_uri": "https://localhost:8080/",
          "height": 279
        },
        "id": "4476bc71",
        "outputId": "5003afad-fc91-4e26-d9d5-dc0a8ef788d1"
      },
      "outputs": [
        {
          "output_type": "display_data",
          "data": {
            "text/plain": [
              "<Figure size 432x288 with 1 Axes>"
            ],
            "image/png": "[encoded data removed]"
          },
          "metadata": {
            "needs_background": "light"
          }
        }
      ],
      "source": [
        "plt.hist(data['Annual Income (k$)']);\n",
        "plt.xlabel('Annual Income (k$)');\n",
        "plt.show();"
      ]
    },
    {
      "cell_type": "code",
      "execution_count": 7,
      "id": "b7b5f4d4",
      "metadata": {
        "colab": {
          "base_uri": "https://localhost:8080/",
          "height": 279
        },
        "id": "b7b5f4d4",
        "outputId": "e017c170-0819-4603-d3a7-316485b121e8"
      },
      "outputs": [
        {
          "output_type": "display_data",
          "data": {
            "text/plain": [
              "<Figure size 432x288 with 1 Axes>"
            ],
            "image/png": "[encoded data removed]"
          },
          "metadata": {
            "needs_background": "light"
          }
        }
      ],
      "source": [
        "plt.hist(data['Spending Score (1-100)']);\n",
        "plt.xlabel('Spending Score (1-100)');\n",
        "plt.show();"
      ]
    },
    {
      "cell_type": "markdown",
      "source": [
        "**Scatter Plot**"
      ],
      "metadata": {
        "id": "nCj8HH2LqhRj"
      },
      "id": "nCj8HH2LqhRj"
    },
    {
      "cell_type": "code",
      "source": [
        "plt.scatter(data.index,data['Gender'])\n",
        "plt.show()"
      ],
      "metadata": {
        "colab": {
          "base_uri": "https://localhost:8080/",
          "height": 265
        },
        "id": "JN2lZqJjpqr0",
        "outputId": "967fdab8-d881-4013-f284-f7a96ef49a4f"
      },
      "id": "JN2lZqJjpqr0",
      "execution_count": 8,
      "outputs": [
        {
          "output_type": "display_data",
          "data": {
            "text/plain": [
              "<Figure size 432x288 with 1 Axes>"
            ],
            "image/png": "[encoded data removed]"
          },
          "metadata": {
            "needs_background": "light"
          }
        }
      ]
    },
    {
      "cell_type": "code",
      "source": [
        "plt.scatter(data.index,data['Age'])"
      ],
      "metadata": {
        "colab": {
          "base_uri": "https://localhost:8080/",
          "height": 283
        },
        "id": "NtgBtoU5pu5c",
        "outputId": "29d654e8-cd0e-4947-83d4-7a791b96c8b8"
      },
      "id": "NtgBtoU5pu5c",
      "execution_count": 9,
      "outputs": [
        {
          "output_type": "execute_result",
          "data": {
            "text/plain": [
              "<matplotlib.collections.PathCollection at 0x7f992608b210>"
            ]
          },
          "metadata": {},
          "execution_count": 9
        },
        {
          "output_type": "display_data",
          "data": {
            "text/plain": [
              "<Figure size 432x288 with 1 Axes>"
            ],
            "image/png": "[encoded data removed]"
          },
          "metadata": {
            "needs_background": "light"
          }
        }
      ]
    },
    {
      "cell_type": "code",
      "source": [
        "plt.scatter(data.index,data['Annual Income (k$)'])"
      ],
      "metadata": {
        "colab": {
          "base_uri": "https://localhost:8080/",
          "height": 283
        },
        "id": "OF2AUpXwpytz",
        "outputId": "959fe623-304f-4cc7-9eb5-523ad62fa1ef"
      },
      "id": "OF2AUpXwpytz",
      "execution_count": 10,
      "outputs": [
        {
          "output_type": "execute_result",
          "data": {
            "text/plain": [
              "<matplotlib.collections.PathCollection at 0x7f9926013790>"
            ]
          },
          "metadata": {},
          "execution_count": 10
        },
        {
          "output_type": "display_data",
          "data": {
            "text/plain": [
              "<Figure size 432x288 with 1 Axes>"
            ],
            "image/png": "[encoded data removed]"
          },
          "metadata": {
            "needs_background": "light"
          }
        }
      ]
    },
    {
      "cell_type": "code",
      "source": [
        "plt.scatter(data.index,data['Spending Score (1-100)'])"
      ],
      "metadata": {
        "colab": {
          "base_uri": "https://localhost:8080/",
          "height": 283
        },
        "id": "eVmXstUMp2eY",
        "outputId": "59d3eb2f-0946-45b6-e579-05b02f3f028a"
      },
      "id": "eVmXstUMp2eY",
      "execution_count": 11,
      "outputs": [
        {
          "output_type": "execute_result",
          "data": {
            "text/plain": [
              "<matplotlib.collections.PathCollection at 0x7f9925f9cb10>"
            ]
          },
          "metadata": {},
          "execution_count": 11
        },
        {
          "output_type": "display_data",
          "data": {
            "text/plain": [
              "<Figure size 432x288 with 1 Axes>"
            ],
            "image/png": "[encoded data removed]"
          },
          "metadata": {
            "needs_background": "light"
          }
        }
      ]
    },
    {
      "cell_type": "markdown",
      "source": [
        "**Dist Plot**"
      ],
      "metadata": {
        "id": "RF39VGNEql2P"
      },
      "id": "RF39VGNEql2P"
    },
    {
      "cell_type": "code",
      "source": [
        "sns.distplot(data['Annual Income (k$)'])"
      ],
      "metadata": {
        "colab": {
          "base_uri": "https://localhost:8080/",
          "height": 354
        },
        "id": "NMGtRKNSqphQ",
        "outputId": "d3126732-6b17-42fa-e79e-60f13f0b3061"
      },
      "id": "NMGtRKNSqphQ",
      "execution_count": 12,
      "outputs": [
        {
          "output_type": "stream",
          "name": "stderr",
          "text": [
            "/usr/local/lib/python3.7/dist-packages/seaborn/distributions.py:2619: FutureWarning: `distplot` is a deprecated function and will be removed in a future version. Please adapt your code to use either `displot` (a figure-level function with similar flexibility) or `histplot` (an axes-level function for histograms).\n",
            "  warnings.warn(msg, FutureWarning)\n"
          ]
        },
        {
          "output_type": "execute_result",
          "data": {
            "text/plain": [
              "<matplotlib.axes._subplots.AxesSubplot at 0x7f9925f1c150>"
            ]
          },
          "metadata": {},
          "execution_count": 12
        },
        {
          "output_type": "display_data",
          "data": {
            "text/plain": [
              "<Figure size 432x288 with 1 Axes>"
            ],
            "image/png": "[encoded data removed]"
          },
          "metadata": {
            "needs_background": "light"
          }
        }
      ]
    },
    {
      "cell_type": "markdown",
      "id": "c9f0df26",
      "metadata": {
        "id": "c9f0df26"
      },
      "source": [
        "# 3.2 Bi - Variate Analysis"
      ]
    },
    {
      "cell_type": "markdown",
      "source": [
        "**Bar Plot**"
      ],
      "metadata": {
        "id": "tcUm6vEJq4uY"
      },
      "id": "tcUm6vEJq4uY"
    },
    {
      "cell_type": "code",
      "source": [
        "plt.figure(figsize=(16,6))\n",
        "sns.barplot(data['Age'],data['Annual Income (k$)'])"
      ],
      "metadata": {
        "colab": {
          "base_uri": "https://localhost:8080/",
          "height": 463
        },
        "id": "P8RJqD9Pq-d9",
        "outputId": "52ddf33a-71f4-42b4-ac16-5a1a00736779"
      },
      "id": "P8RJqD9Pq-d9",
      "execution_count": 13,
      "outputs": [
        {
          "output_type": "stream",
          "name": "stderr",
          "text": [
            "/usr/local/lib/python3.7/dist-packages/seaborn/_decorators.py:43: FutureWarning: Pass the following variables as keyword args: x, y. From version 0.12, the only valid positional argument will be `data`, and passing other arguments without an explicit keyword will result in an error or misinterpretation.\n",
            "  FutureWarning\n"
          ]
        },
        {
          "output_type": "execute_result",
          "data": {
            "text/plain": [
              "<matplotlib.axes._subplots.AxesSubplot at 0x7f9925e0ab50>"
            ]
          },
          "metadata": {},
          "execution_count": 13
        },
        {
          "output_type": "display_data",
          "data": {
            "text/plain": [
              "<Figure size 1152x432 with 1 Axes>"
            ],
            "image/png": "[encoded data removed]"
          },
          "metadata": {
            "needs_background": "light"
          }
        }
      ]
    },
    {
      "cell_type": "markdown",
      "source": [
        "**Line Plot**"
      ],
      "metadata": {
        "id": "VdxvEEbcqyEV"
      },
      "id": "VdxvEEbcqyEV"
    },
    {
      "cell_type": "code",
      "execution_count": 14,
      "id": "5ce99239",
      "metadata": {
        "colab": {
          "base_uri": "https://localhost:8080/",
          "height": 279
        },
        "id": "5ce99239",
        "outputId": "510f3669-6b7d-41e3-c4cd-ba381d0f46a6"
      },
      "outputs": [
        {
          "output_type": "display_data",
          "data": {
            "text/plain": [
              "<Figure size 432x288 with 1 Axes>"
            ],
            "image/png": "[encoded data removed]"
          },
          "metadata": {
            "needs_background": "light"
          }
        }
      ],
      "source": [
        "sns.lineplot(x=data[\"Age\"], y=data[\"Annual Income (k$)\"]);\n",
        "plt.xlabel('Age');\n",
        "plt.ylabel('Annual Income (k$)');\n",
        "plt.show();"
      ]
    },
    {
      "cell_type": "code",
      "execution_count": 15,
      "id": "74b97956",
      "metadata": {
        "colab": {
          "base_uri": "https://localhost:8080/",
          "height": 279
        },
        "id": "74b97956",
        "outputId": "3fcf2fcf-ccbe-4b47-c6e3-706ceead0672"
      },
      "outputs": [
        {
          "output_type": "display_data",
          "data": {
            "text/plain": [
              "<Figure size 432x288 with 1 Axes>"
            ],
            "image/png": "[encoded data removed]"
          },
          "metadata": {
            "needs_background": "light"
          }
        }
      ],
      "source": [
        "sns.lineplot(x=data[\"Age\"], y=data[\"Spending Score (1-100)\"]);\n",
        "plt.xlabel('Age');\n",
        "plt.ylabel('Spending Score (1-100)');\n",
        "plt.show();"
      ]
    },
    {
      "cell_type": "markdown",
      "source": [
        "**Gender Vs Age Distribution**"
      ],
      "metadata": {
        "id": "6EGgRPwBrGd6"
      },
      "id": "6EGgRPwBrGd6"
    },
    {
      "cell_type": "code",
      "source": [
        "temp = pd.concat([data['Age'], data['Gender']], axis=1)\n",
        "\n",
        "f, ax = plt.subplots(figsize=(10,10))\n",
        "fig = sns.boxenplot(x='Gender', y=\"Age\", data=data)\n",
        "fig.axis(ymin=0, ymax=100);"
      ],
      "metadata": {
        "colab": {
          "base_uri": "https://localhost:8080/",
          "height": 610
        },
        "id": "ldgxFe6nrKGD",
        "outputId": "36a2a329-501d-45e7-c39b-58936485f48b"
      },
      "id": "ldgxFe6nrKGD",
      "execution_count": 16,
      "outputs": [
        {
          "output_type": "display_data",
          "data": {
            "text/plain": [
              "<Figure size 720x720 with 1 Axes>"
            ],
            "image/png": "[encoded data removed]"
          },
          "metadata": {
            "needs_background": "light"
          }
        }
      ]
    },
    {
      "cell_type": "markdown",
      "source": [
        "**Annual Income Vs Gender Countplot**"
      ],
      "metadata": {
        "id": "l1gxsgEOrPfo"
      },
      "id": "l1gxsgEOrPfo"
    },
    {
      "cell_type": "code",
      "source": [
        "sns.boxplot(x=data['Gender'],y=data['Annual Income (k$)'])"
      ],
      "metadata": {
        "colab": {
          "base_uri": "https://localhost:8080/",
          "height": 297
        },
        "id": "834JzphFrU3x",
        "outputId": "7ba2c621-8946-48be-b3d1-e141fe081a68"
      },
      "id": "834JzphFrU3x",
      "execution_count": 17,
      "outputs": [
        {
          "output_type": "execute_result",
          "data": {
            "text/plain": [
              "<matplotlib.axes._subplots.AxesSubplot at 0x7f9926797950>"
            ]
          },
          "metadata": {},
          "execution_count": 17
        },
        {
          "output_type": "display_data",
          "data": {
            "text/plain": [
              "<Figure size 432x288 with 1 Axes>"
            ],
            "image/png": "[encoded data removed]"
          },
          "metadata": {
            "needs_background": "light"
          }
        }
      ]
    },
    {
      "cell_type": "markdown",
      "id": "0102e695",
      "metadata": {
        "id": "0102e695"
      },
      "source": [
        "# 3.3 Multi - Variate Analysis"
      ]
    },
    {
      "cell_type": "code",
      "source": [
        "sns.scatterplot(data['Spending Score (1-100)'],data['Annual Income (k$)'],data['Gender'])\n"
      ],
      "metadata": {
        "colab": {
          "base_uri": "https://localhost:8080/",
          "height": 354
        },
        "id": "Oul6NUYAoNp2",
        "outputId": "ed25b278-47e2-4270-dfbb-625b8d23275f"
      },
      "id": "Oul6NUYAoNp2",
      "execution_count": 18,
      "outputs": [
        {
          "output_type": "stream",
          "name": "stderr",
          "text": [
            "/usr/local/lib/python3.7/dist-packages/seaborn/_decorators.py:43: FutureWarning: Pass the following variables as keyword args: x, y, hue. From version 0.12, the only valid positional argument will be `data`, and passing other arguments without an explicit keyword will result in an error or misinterpretation.\n",
            "  FutureWarning\n"
          ]
        },
        {
          "output_type": "execute_result",
          "data": {
            "text/plain": [
              "<matplotlib.axes._subplots.AxesSubplot at 0x7f99267741d0>"
            ]
          },
          "metadata": {},
          "execution_count": 18
        },
        {
          "output_type": "display_data",
          "data": {
            "text/plain": [
              "<Figure size 432x288 with 1 Axes>"
            ],
            "image/png": "[encoded data removed]"
          },
          "metadata": {
            "needs_background": "light"
          }
        }
      ]
    },
    {
      "cell_type": "code",
      "source": [
        "sns.pairplot(data=data[[\"Age\", \"Gender\",\"Spending Score (1-100)\",\"Annual Income (k$)\"]])\n"
      ],
      "metadata": {
        "colab": {
          "base_uri": "https://localhost:8080/",
          "height": 568
        },
        "id": "9SeSCtIFrcoX",
        "outputId": "68ff35d6-92e8-4ccf-8236-f1a58eb4d488"
      },
      "id": "9SeSCtIFrcoX",
      "execution_count": 19,
      "outputs": [
        {
          "output_type": "execute_result",
          "data": {
            "text/plain": [
              "<seaborn.axisgrid.PairGrid at 0x7f992338f110>"
            ]
          },
          "metadata": {},
          "execution_count": 19
        },
        {
          "output_type": "display_data",
          "data": {
            "text/plain": [
              "<Figure size 540x540 with 12 Axes>"
            ],
            "image/png": "[encoded data removed]"
          },
          "metadata": {
            "needs_background": "light"
          }
        }
      ]
    },
    {
      "cell_type": "code",
      "execution_count": 20,
      "id": "69c49d23",
      "metadata": {
        "colab": {
          "base_uri": "https://localhost:8080/",
          "height": 377
        },
        "id": "69c49d23",
        "outputId": "ffa98404-398d-4962-f7d1-115c95b475ba"
      },
      "outputs": [
        {
          "output_type": "display_data",
          "data": {
            "text/plain": [
              "<Figure size 432x288 with 2 Axes>"
            ],
            "image/png": "[encoded data removed]"
          },
          "metadata": {
            "needs_background": "light"
          }
        }
      ],
      "source": [
        "sns.heatmap(data.corr(), annot=True);"
      ]
    },
    {
      "cell_type": "markdown",
      "id": "dfbaaef7",
      "metadata": {
        "id": "dfbaaef7"
      },
      "source": [
        "# 4. Descriptive statistics"
      ]
    },
    {
      "cell_type": "code",
      "execution_count": 21,
      "id": "34457bbf",
      "metadata": {
        "colab": {
          "base_uri": "https://localhost:8080/",
          "height": 300
        },
        "id": "34457bbf",
        "outputId": "60ce6ea0-26e8-4369-9948-e079faf454df"
      },
      "outputs": [
        {
          "output_type": "execute_result",
          "data": {
            "text/plain": [
              "       CustomerID         Age  Annual Income (k$)  Spending Score (1-100)\n",
              "count  200.000000  200.000000          200.000000              200.000000\n",
              "mean   100.500000   38.850000           60.560000               50.200000\n",
              "std     57.879185   13.969007           26.264721               25.823522\n",
              "min      1.000000   18.000000           15.000000                1.000000\n",
              "25%     50.750000   28.750000           41.500000               34.750000\n",
              "50%    100.500000   36.000000           61.500000               50.000000\n",
              "75%    150.250000   49.000000           78.000000               73.000000\n",
              "max    200.000000   70.000000          137.000000               99.000000"
            ],
            "text/html": [
              "\n",
              "  <div id=\"df-e2417fe4-fdc3-4b85-a3d9-20533035badc\">\n",
              "    <div class=\"colab-df-container\">\n",
              "      <div>\n",
              "<style scoped>\n",
              "    .dataframe tbody tr th:only-of-type {\n",
              "        vertical-align: middle;\n",
              "    }\n",
              "\n",
              "    .dataframe tbody tr th {\n",
              "        vertical-align: top;\n",
              "    }\n",
              "\n",
              "    .dataframe thead th {\n",
              "        text-align: right;\n",
              "    }\n",
              "</style>\n",
              "<table border=\"1\" class=\"dataframe\">\n",
              "  <thead>\n",
              "    <tr style=\"text-align: right;\">\n",
              "      <th></th>\n",
              "      <th>CustomerID</th>\n",
              "      <th>Age</th>\n",
              "      <th>Annual Income (k$)</th>\n",
              "      <th>Spending Score (1-100)</th>\n",
              "    </tr>\n",
              "  </thead>\n",
              "  <tbody>\n",
              "    <tr>\n",
              "      <th>count</th>\n",
              "      <td>200.000000</td>\n",
              "      <td>200.000000</td>\n",
              "      <td>200.000000</td>\n",
              "      <td>200.000000</td>\n",
              "    </tr>\n",
              "    <tr>\n",
              "      <th>mean</th>\n",
              "      <td>100.500000</td>\n",
              "      <td>38.850000</td>\n",
              "      <td>60.560000</td>\n",
              "      <td>50.200000</td>\n",
              "    </tr>\n",
              "    <tr>\n",
              "      <th>std</th>\n",
              "      <td>57.879185</td>\n",
              "      <td>13.969007</td>\n",
              "      <td>26.264721</td>\n",
              "      <td>25.823522</td>\n",
              "    </tr>\n",
              "    <tr>\n",
              "      <th>min</th>\n",
              "      <td>1.000000</td>\n",
              "      <td>18.000000</td>\n",
              "      <td>15.000000</td>\n",
              "      <td>1.000000</td>\n",
              "    </tr>\n",
              "    <tr>\n",
              "      <th>25%</th>\n",
              "      <td>50.750000</td>\n",
              "      <td>28.750000</td>\n",
              "      <td>41.500000</td>\n",
              "      <td>34.750000</td>\n",
              "    </tr>\n",
              "    <tr>\n",
              "      <th>50%</th>\n",
              "      <td>100.500000</td>\n",
              "      <td>36.000000</td>\n",
              "      <td>61.500000</td>\n",
              "      <td>50.000000</td>\n",
              "    </tr>\n",
              "    <tr>\n",
              "      <th>75%</th>\n",
              "      <td>150.250000</td>\n",
              "      <td>49.000000</td>\n",
              "      <td>78.000000</td>\n",
              "      <td>73.000000</td>\n",
              "    </tr>\n",
              "    <tr>\n",
              "      <th>max</th>\n",
              "      <td>200.000000</td>\n",
              "      <td>70.000000</td>\n",
              "      <td>137.000000</td>\n",
              "      <td>99.000000</td>\n",
              "    </tr>\n",
              "  </tbody>\n",
              "</table>\n",
              "</div>\n",
              "      <button class=\"colab-df-convert\" onclick=\"convertToInteractive('df-e2417fe4-fdc3-4b85-a3d9-20533035badc')\"\n",
              "              title=\"Convert this dataframe to an interactive table.\"\n",
              "              style=\"display:none;\">\n",
              "        \n",
              "  <svg xmlns=\"http://www.w3.org/2000/svg\" height=\"24px\"viewBox=\"0 0 24 24\"\n",
              "       width=\"24px\">\n",
              "    <path d=\"M0 0h24v24H0V0z\" fill=\"none\"/>\n",
              "    <path d=\"M18.56 5.44l.94 2.06.94-2.06 2.06-.94-2.06-.94-.94-2.06-.94 2.06-2.06.94zm-11 1L8.5 8.5l.94-2.06 2.06-.94-2.06-.94L8.5 2.5l-.94 2.06-2.06.94zm10 10l.94 2.06.94-2.06 2.06-.94-2.06-.94-.94-2.06-.94 2.06-2.06.94z\"/><path d=\"M17.41 7.96l-1.37-1.37c-.4-.4-.92-.59-1.43-.59-.52 0-1.04.2-1.43.59L10.3 9.45l-7.72 7.72c-.78.78-.78 2.05 0 2.83L4 21.41c.39.39.9.59 1.41.59.51 0 1.02-.2 1.41-.59l7.78-7.78 2.81-2.81c.8-.78.8-2.07 0-2.86zM5.41 20L4 18.59l7.72-7.72 1.47 1.35L5.41 20z\"/>\n",
              "  </svg>\n",
              "      </button>\n",
              "      \n",
              "  <style>\n",
              "    .colab-df-container {\n",
              "      display:flex;\n",
              "      flex-wrap:wrap;\n",
              "      gap: 12px;\n",
              "    }\n",
              "\n",
              "    .colab-df-convert {\n",
              "      background-color: #E8F0FE;\n",
              "      border: none;\n",
              "      border-radius: 50%;\n",
              "      cursor: pointer;\n",
              "      display: none;\n",
              "      fill: #1967D2;\n",
              "      height: 32px;\n",
              "      padding: 0 0 0 0;\n",
              "      width: 32px;\n",
              "    }\n",
              "\n",
              "    .colab-df-convert:hover {\n",
              "      background-color: #E2EBFA;\n",
              "      box-shadow: 0px 1px 2px rgba(60, 64, 67, 0.3), 0px 1px 3px 1px rgba(60, 64, 67, 0.15);\n",
              "      fill: #174EA6;\n",
              "    }\n",
              "\n",
              "    [theme=dark] .colab-df-convert {\n",
              "      background-color: #3B4455;\n",
              "      fill: #D2E3FC;\n",
              "    }\n",
              "\n",
              "    [theme=dark] .colab-df-convert:hover {\n",
              "      background-color: #434B5C;\n",
              "      box-shadow: 0px 1px 3px 1px rgba(0, 0, 0, 0.15);\n",
              "      filter: drop-shadow(0px 1px 2px rgba(0, 0, 0, 0.3));\n",
              "      fill: #FFFFFF;\n",
              "    }\n",
              "  </style>\n",
              "\n",
              "      <script>\n",
              "        const buttonEl =\n",
              "          document.querySelector('#df-e2417fe4-fdc3-4b85-a3d9-20533035badc button.colab-df-convert');\n",
              "        buttonEl.style.display =\n",
              "          google.colab.kernel.accessAllowed ? 'block' : 'none';\n",
              "\n",
              "        async function convertToInteractive(key) {\n",
              "          const element = document.querySelector('#df-e2417fe4-fdc3-4b85-a3d9-20533035badc');\n",
              "          const dataTable =\n",
              "            await google.colab.kernel.invokeFunction('convertToInteractive',\n",
              "                                                     [key], {});\n",
              "          if (!dataTable) return;\n",
              "\n",
              "          const docLinkHtml = 'Like what you see? Visit the ' +\n",
              "            '<a target=\"_blank\" href=https://colab.research.google.com/notebooks/data_table.ipynb>data table notebook</a>'\n",
              "            + ' to learn more about interactive tables.';\n",
              "          element.innerHTML = '';\n",
              "          dataTable['output_type'] = 'display_data';\n",
              "          await google.colab.output.renderOutput(dataTable, element);\n",
              "          const docLink = document.createElement('div');\n",
              "          docLink.innerHTML = docLinkHtml;\n",
              "          element.appendChild(docLink);\n",
              "        }\n",
              "      </script>\n",
              "    </div>\n",
              "  </div>\n",
              "  "
            ]
          },
          "metadata": {},
          "execution_count": 21
        }
      ],
      "source": [
        "data.describe()"
      ]
    },
    {
      "cell_type": "code",
      "execution_count": 22,
      "id": "548713ab",
      "metadata": {
        "colab": {
          "base_uri": "https://localhost:8080/"
        },
        "id": "548713ab",
        "outputId": "4b95ba87-49b9-47a6-e7a1-0af48fc416c1"
      },
      "outputs": [
        {
          "output_type": "stream",
          "name": "stdout",
          "text": [
            "<class 'pandas.core.frame.DataFrame'>\n",
            "RangeIndex: 200 entries, 0 to 199\n",
            "Data columns (total 5 columns):\n",
            " #   Column                  Non-Null Count  Dtype \n",
            "---  ------                  --------------  ----- \n",
            " 0   CustomerID              200 non-null    int64 \n",
            " 1   Gender                  200 non-null    object\n",
            " 2   Age                     200 non-null    int64 \n",
            " 3   Annual Income (k$)      200 non-null    int64 \n",
            " 4   Spending Score (1-100)  200 non-null    int64 \n",
            "dtypes: int64(4), object(1)\n",
            "memory usage: 7.9+ KB\n"
          ]
        }
      ],
      "source": [
        "data.info()"
      ]
    },
    {
      "cell_type": "code",
      "execution_count": 23,
      "id": "3e571474",
      "metadata": {
        "colab": {
          "base_uri": "https://localhost:8080/"
        },
        "id": "3e571474",
        "outputId": "9c993423-5687-43d9-a28d-c4ac4e308ad3"
      },
      "outputs": [
        {
          "output_type": "execute_result",
          "data": {
            "text/plain": [
              "Index(['CustomerID', 'Gender', 'Age', 'Annual Income (k$)',\n",
              "       'Spending Score (1-100)'],\n",
              "      dtype='object')"
            ]
          },
          "metadata": {},
          "execution_count": 23
        }
      ],
      "source": [
        "data.columns"
      ]
    },
    {
      "cell_type": "code",
      "execution_count": 24,
      "id": "3d5c09ed",
      "metadata": {
        "colab": {
          "base_uri": "https://localhost:8080/"
        },
        "id": "3d5c09ed",
        "outputId": "b9b1871b-eebc-4734-815c-eed0149a81ef"
      },
      "outputs": [
        {
          "output_type": "execute_result",
          "data": {
            "text/plain": [
              "(200, 5)"
            ]
          },
          "metadata": {},
          "execution_count": 24
        }
      ],
      "source": [
        "data.shape"
      ]
    },
    {
      "cell_type": "markdown",
      "id": "f9871909",
      "metadata": {
        "id": "f9871909"
      },
      "source": [
        "# 5. Handling missing values"
      ]
    },
    {
      "cell_type": "code",
      "execution_count": 25,
      "id": "99cea73d",
      "metadata": {
        "colab": {
          "base_uri": "https://localhost:8080/"
        },
        "id": "99cea73d",
        "outputId": "11f33a77-de0a-4b1a-fdad-1f4b0ca5fa29"
      },
      "outputs": [
        {
          "output_type": "execute_result",
          "data": {
            "text/plain": [
              "CustomerID                False\n",
              "Gender                    False\n",
              "Age                       False\n",
              "Annual Income (k$)        False\n",
              "Spending Score (1-100)    False\n",
              "dtype: bool"
            ]
          },
          "metadata": {},
          "execution_count": 25
        }
      ],
      "source": [
        "data.isnull().any()"
      ]
    },
    {
      "cell_type": "code",
      "execution_count": 26,
      "id": "8e12a44c",
      "metadata": {
        "colab": {
          "base_uri": "https://localhost:8080/"
        },
        "id": "8e12a44c",
        "outputId": "c7e154ec-3ae5-4dfa-d192-4ac1bacf5c29"
      },
      "outputs": [
        {
          "output_type": "execute_result",
          "data": {
            "text/plain": [
              "CustomerID                0\n",
              "Gender                    0\n",
              "Age                       0\n",
              "Annual Income (k$)        0\n",
              "Spending Score (1-100)    0\n",
              "dtype: int64"
            ]
          },
          "metadata": {},
          "execution_count": 26
        }
      ],
      "source": [
        "data.isnull().sum()"
      ]
    },
    {
      "cell_type": "markdown",
      "id": "404be65f",
      "metadata": {
        "id": "404be65f"
      },
      "source": [
        "# 6. Finding outliers and replacing them"
      ]
    },
    {
      "cell_type": "code",
      "execution_count": 27,
      "id": "32cbb4fe",
      "metadata": {
        "colab": {
          "base_uri": "https://localhost:8080/",
          "height": 606
        },
        "id": "32cbb4fe",
        "outputId": "9cb0fb49-4953-4b3a-e98f-d580db663e16"
      },
      "outputs": [
        {
          "output_type": "display_data",
          "data": {
            "text/plain": [
              "<Figure size 720x720 with 3 Axes>"
            ],
            "image/png": "[encoded data removed]"
          },
          "metadata": {
            "needs_background": "light"
          }
        }
      ],
      "source": [
        "cols=['Age', 'Annual Income (k$)', 'Spending Score (1-100)']\n",
        "fig, axes = plt.subplots(3, 1, figsize=(10, 10))\n",
        "for i in range(3):    \n",
        "    sns.boxplot(ax=axes[i], data=data, x=cols[i])\n",
        "plt.show()"
      ]
    },
    {
      "cell_type": "code",
      "execution_count": 28,
      "id": "2c2071ac",
      "metadata": {
        "id": "2c2071ac"
      },
      "outputs": [],
      "source": [
        "for col in cols:\n",
        "    Q1 = data[col].quantile(0.25)\n",
        "    Q3 = data[col].quantile(0.75)\n",
        "    IQR = Q3 - Q1\n",
        "    lower = Q1-(1.5*IQR)\n",
        "    upper = Q3+(1.5*IQR)\n",
        "    data[col]=np.where(data[col]>upper,upper,np.where(data[col]<lower,lower,data[col]))"
      ]
    },
    {
      "cell_type": "code",
      "execution_count": 29,
      "id": "9304d9bd",
      "metadata": {
        "colab": {
          "base_uri": "https://localhost:8080/",
          "height": 606
        },
        "id": "9304d9bd",
        "outputId": "797af248-16b9-43ea-9453-781f9223d11c"
      },
      "outputs": [
        {
          "output_type": "display_data",
          "data": {
            "text/plain": [
              "<Figure size 720x720 with 3 Axes>"
            ],
            "image/png": "[encoded data removed]"
          },
          "metadata": {
            "needs_background": "light"
          }
        }
      ],
      "source": [
        "fig, axes = plt.subplots(3, 1, figsize=(10,10))\n",
        "for i in range(3):    \n",
        "    sns.boxplot(ax=axes[i], data=data, x=cols[i])\n",
        "plt.show()"
      ]
    },
    {
      "cell_type": "markdown",
      "id": "9ef7900b",
      "metadata": {
        "id": "9ef7900b"
      },
      "source": [
        "# 7. Encoding the categorical columns"
      ]
    },
    {
      "cell_type": "code",
      "execution_count": 30,
      "id": "a1e8dff9",
      "metadata": {
        "colab": {
          "base_uri": "https://localhost:8080/"
        },
        "id": "a1e8dff9",
        "outputId": "f28db4c9-9984-4df7-b342-b6ad6ea6aead"
      },
      "outputs": [
        {
          "output_type": "execute_result",
          "data": {
            "text/plain": [
              "array(['Male', 'Female'], dtype=object)"
            ]
          },
          "metadata": {},
          "execution_count": 30
        }
      ],
      "source": [
        "data['Gender'].unique()"
      ]
    },
    {
      "cell_type": "code",
      "execution_count": 31,
      "id": "2031de49",
      "metadata": {
        "id": "2031de49"
      },
      "outputs": [],
      "source": [
        "data['Gender'].replace({'Male':1,\"Female\":0},inplace=True)"
      ]
    },
    {
      "cell_type": "code",
      "execution_count": 32,
      "id": "ad9c4bdf",
      "metadata": {
        "colab": {
          "base_uri": "https://localhost:8080/",
          "height": 423
        },
        "id": "ad9c4bdf",
        "outputId": "71fa6e6d-791b-479b-e3a8-38a521735183"
      },
      "outputs": [
        {
          "output_type": "execute_result",
          "data": {
            "text/plain": [
              "     CustomerID  Gender   Age  Annual Income (k$)  Spending Score (1-100)\n",
              "0             1       1  19.0               15.00                    39.0\n",
              "1             2       1  21.0               15.00                    81.0\n",
              "2             3       0  20.0               16.00                     6.0\n",
              "3             4       0  23.0               16.00                    77.0\n",
              "4             5       0  31.0               17.00                    40.0\n",
              "..          ...     ...   ...                 ...                     ...\n",
              "195         196       0  35.0              120.00                    79.0\n",
              "196         197       0  45.0              126.00                    28.0\n",
              "197         198       1  32.0              126.00                    74.0\n",
              "198         199       1  32.0              132.75                    18.0\n",
              "199         200       1  30.0              132.75                    83.0\n",
              "\n",
              "[200 rows x 5 columns]"
            ],
            "text/html": [
              "\n",
              "  <div id=\"df-327481bf-5345-41dc-b30a-fd4ea77a1c21\">\n",
              "    <div class=\"colab-df-container\">\n",
              "      <div>\n",
              "<style scoped>\n",
              "    .dataframe tbody tr th:only-of-type {\n",
              "        vertical-align: middle;\n",
              "    }\n",
              "\n",
              "    .dataframe tbody tr th {\n",
              "        vertical-align: top;\n",
              "    }\n",
              "\n",
              "    .dataframe thead th {\n",
              "        text-align: right;\n",
              "    }\n",
              "</style>\n",
              "<table border=\"1\" class=\"dataframe\">\n",
              "  <thead>\n",
              "    <tr style=\"text-align: right;\">\n",
              "      <th></th>\n",
              "      <th>CustomerID</th>\n",
              "      <th>Gender</th>\n",
              "      <th>Age</th>\n",
              "      <th>Annual Income (k$)</th>\n",
              "      <th>Spending Score (1-100)</th>\n",
              "    </tr>\n",
              "  </thead>\n",
              "  <tbody>\n",
              "    <tr>\n",
              "      <th>0</th>\n",
              "      <td>1</td>\n",
              "      <td>1</td>\n",
              "      <td>19.0</td>\n",
              "      <td>15.00</td>\n",
              "      <td>39.0</td>\n",
              "    </tr>\n",
              "    <tr>\n",
              "      <th>1</th>\n",
              "      <td>2</td>\n",
              "      <td>1</td>\n",
              "      <td>21.0</td>\n",
              "      <td>15.00</td>\n",
              "      <td>81.0</td>\n",
              "    </tr>\n",
              "    <tr>\n",
              "      <th>2</th>\n",
              "      <td>3</td>\n",
              "      <td>0</td>\n",
              "      <td>20.0</td>\n",
              "      <td>16.00</td>\n",
              "      <td>6.0</td>\n",
              "    </tr>\n",
              "    <tr>\n",
              "      <th>3</th>\n",
              "      <td>4</td>\n",
              "      <td>0</td>\n",
              "      <td>23.0</td>\n",
              "      <td>16.00</td>\n",
              "      <td>77.0</td>\n",
              "    </tr>\n",
              "    <tr>\n",
              "      <th>4</th>\n",
              "      <td>5</td>\n",
              "      <td>0</td>\n",
              "      <td>31.0</td>\n",
              "      <td>17.00</td>\n",
              "      <td>40.0</td>\n",
              "    </tr>\n",
              "    <tr>\n",
              "      <th>...</th>\n",
              "      <td>...</td>\n",
              "      <td>...</td>\n",
              "      <td>...</td>\n",
              "      <td>...</td>\n",
              "      <td>...</td>\n",
              "    </tr>\n",
              "    <tr>\n",
              "      <th>195</th>\n",
              "      <td>196</td>\n",
              "      <td>0</td>\n",
              "      <td>35.0</td>\n",
              "      <td>120.00</td>\n",
              "      <td>79.0</td>\n",
              "    </tr>\n",
              "    <tr>\n",
              "      <th>196</th>\n",
              "      <td>197</td>\n",
              "      <td>0</td>\n",
              "      <td>45.0</td>\n",
              "      <td>126.00</td>\n",
              "      <td>28.0</td>\n",
              "    </tr>\n",
              "    <tr>\n",
              "      <th>197</th>\n",
              "      <td>198</td>\n",
              "      <td>1</td>\n",
              "      <td>32.0</td>\n",
              "      <td>126.00</td>\n",
              "      <td>74.0</td>\n",
              "    </tr>\n",
              "    <tr>\n",
              "      <th>198</th>\n",
              "      <td>199</td>\n",
              "      <td>1</td>\n",
              "      <td>32.0</td>\n",
              "      <td>132.75</td>\n",
              "      <td>18.0</td>\n",
              "    </tr>\n",
              "    <tr>\n",
              "      <th>199</th>\n",
              "      <td>200</td>\n",
              "      <td>1</td>\n",
              "      <td>30.0</td>\n",
              "      <td>132.75</td>\n",
              "      <td>83.0</td>\n",
              "    </tr>\n",
              "  </tbody>\n",
              "</table>\n",
              "<p>200 rows × 5 columns</p>\n",
              "</div>\n",
              "      <button class=\"colab-df-convert\" onclick=\"convertToInteractive('df-327481bf-5345-41dc-b30a-fd4ea77a1c21')\"\n",
              "              title=\"Convert this dataframe to an interactive table.\"\n",
              "              style=\"display:none;\">\n",
              "        \n",
              "  <svg xmlns=\"http://www.w3.org/2000/svg\" height=\"24px\"viewBox=\"0 0 24 24\"\n",
              "       width=\"24px\">\n",
              "    <path d=\"M0 0h24v24H0V0z\" fill=\"none\"/>\n",
              "    <path d=\"M18.56 5.44l.94 2.06.94-2.06 2.06-.94-2.06-.94-.94-2.06-.94 2.06-2.06.94zm-11 1L8.5 8.5l.94-2.06 2.06-.94-2.06-.94L8.5 2.5l-.94 2.06-2.06.94zm10 10l.94 2.06.94-2.06 2.06-.94-2.06-.94-.94-2.06-.94 2.06-2.06.94z\"/><path d=\"M17.41 7.96l-1.37-1.37c-.4-.4-.92-.59-1.43-.59-.52 0-1.04.2-1.43.59L10.3 9.45l-7.72 7.72c-.78.78-.78 2.05 0 2.83L4 21.41c.39.39.9.59 1.41.59.51 0 1.02-.2 1.41-.59l7.78-7.78 2.81-2.81c.8-.78.8-2.07 0-2.86zM5.41 20L4 18.59l7.72-7.72 1.47 1.35L5.41 20z\"/>\n",
              "  </svg>\n",
              "      </button>\n",
              "      \n",
              "  <style>\n",
              "    .colab-df-container {\n",
              "      display:flex;\n",
              "      flex-wrap:wrap;\n",
              "      gap: 12px;\n",
              "    }\n",
              "\n",
              "    .colab-df-convert {\n",
              "      background-color: #E8F0FE;\n",
              "      border: none;\n",
              "      border-radius: 50%;\n",
              "      cursor: pointer;\n",
              "      display: none;\n",
              "      fill: #1967D2;\n",
              "      height: 32px;\n",
              "      padding: 0 0 0 0;\n",
              "      width: 32px;\n",
              "    }\n",
              "\n",
              "    .colab-df-convert:hover {\n",
              "      background-color: #E2EBFA;\n",
              "      box-shadow: 0px 1px 2px rgba(60, 64, 67, 0.3), 0px 1px 3px 1px rgba(60, 64, 67, 0.15);\n",
              "      fill: #174EA6;\n",
              "    }\n",
              "\n",
              "    [theme=dark] .colab-df-convert {\n",
              "      background-color: #3B4455;\n",
              "      fill: #D2E3FC;\n",
              "    }\n",
              "\n",
              "    [theme=dark] .colab-df-convert:hover {\n",
              "      background-color: #434B5C;\n",
              "      box-shadow: 0px 1px 3px 1px rgba(0, 0, 0, 0.15);\n",
              "      filter: drop-shadow(0px 1px 2px rgba(0, 0, 0, 0.3));\n",
              "      fill: #FFFFFF;\n",
              "    }\n",
              "  </style>\n",
              "\n",
              "      <script>\n",
              "        const buttonEl =\n",
              "          document.querySelector('#df-327481bf-5345-41dc-b30a-fd4ea77a1c21 button.colab-df-convert');\n",
              "        buttonEl.style.display =\n",
              "          google.colab.kernel.accessAllowed ? 'block' : 'none';\n",
              "\n",
              "        async function convertToInteractive(key) {\n",
              "          const element = document.querySelector('#df-327481bf-5345-41dc-b30a-fd4ea77a1c21');\n",
              "          const dataTable =\n",
              "            await google.colab.kernel.invokeFunction('convertToInteractive',\n",
              "                                                     [key], {});\n",
              "          if (!dataTable) return;\n",
              "\n",
              "          const docLinkHtml = 'Like what you see? Visit the ' +\n",
              "            '<a target=\"_blank\" href=https://colab.research.google.com/notebooks/data_table.ipynb>data table notebook</a>'\n",
              "            + ' to learn more about interactive tables.';\n",
              "          element.innerHTML = '';\n",
              "          dataTable['output_type'] = 'display_data';\n",
              "          await google.colab.output.renderOutput(dataTable, element);\n",
              "          const docLink = document.createElement('div');\n",
              "          docLink.innerHTML = docLinkHtml;\n",
              "          element.appendChild(docLink);\n",
              "        }\n",
              "      </script>\n",
              "    </div>\n",
              "  </div>\n",
              "  "
            ]
          },
          "metadata": {},
          "execution_count": 32
        }
      ],
      "source": [
        "data"
      ]
    },
    {
      "cell_type": "markdown",
      "id": "2a08a019",
      "metadata": {
        "id": "2a08a019"
      },
      "source": [
        "# 8. Scaling the data"
      ]
    },
    {
      "cell_type": "code",
      "execution_count": 33,
      "id": "f5ad2288",
      "metadata": {
        "colab": {
          "base_uri": "https://localhost:8080/"
        },
        "id": "f5ad2288",
        "outputId": "c7a98710-45ff-41a5-fa6a-205e94c207f9"
      },
      "outputs": [
        {
          "output_type": "execute_result",
          "data": {
            "text/plain": [
              "array([[-1.7234121 ,  1.12815215, -1.42456879, -1.74542941, -0.43480148],\n",
              "       [-1.70609137,  1.12815215, -1.28103541, -1.74542941,  1.19570407],\n",
              "       [-1.68877065, -0.88640526, -1.3528021 , -1.70708307, -1.71591298],\n",
              "       [-1.67144992, -0.88640526, -1.13750203, -1.70708307,  1.04041783],\n",
              "       [-1.6541292 , -0.88640526, -0.56336851, -1.66873673, -0.39597992],\n",
              "       [-1.63680847, -0.88640526, -1.20926872, -1.66873673,  1.00159627],\n",
              "       [-1.61948775, -0.88640526, -0.27630176, -1.6303904 , -1.71591298],\n",
              "       [-1.60216702, -0.88640526, -1.13750203, -1.6303904 ,  1.70038436],\n",
              "       [-1.5848463 ,  1.12815215,  1.80493225, -1.59204406, -1.83237767],\n",
              "       [-1.56752558, -0.88640526, -0.6351352 , -1.59204406,  0.84631002],\n",
              "       [-1.55020485,  1.12815215,  2.02023231, -1.59204406, -1.4053405 ],\n",
              "       [-1.53288413, -0.88640526, -0.27630176, -1.59204406,  1.89449216],\n",
              "       [-1.5155634 , -0.88640526,  1.37433211, -1.55369772, -1.36651894],\n",
              "       [-1.49824268, -0.88640526, -1.06573534, -1.55369772,  1.04041783],\n",
              "       [-1.48092195,  1.12815215, -0.13276838, -1.55369772, -1.44416206],\n",
              "       [-1.46360123,  1.12815215, -1.20926872, -1.55369772,  1.11806095],\n",
              "       [-1.4462805 , -0.88640526, -0.27630176, -1.51535138, -0.59008772],\n",
              "       [-1.42895978,  1.12815215, -1.3528021 , -1.51535138,  0.61338066],\n",
              "       [-1.41163905,  1.12815215,  0.94373197, -1.43865871, -0.82301709],\n",
              "       [-1.39431833, -0.88640526, -0.27630176, -1.43865871,  1.8556706 ],\n",
              "       [-1.3769976 ,  1.12815215, -0.27630176, -1.40031237, -0.59008772],\n",
              "       [-1.35967688,  1.12815215, -0.99396865, -1.40031237,  0.88513158],\n",
              "       [-1.34235616, -0.88640526,  0.51313183, -1.36196603, -1.75473454],\n",
              "       [-1.32503543,  1.12815215, -0.56336851, -1.36196603,  0.88513158],\n",
              "       [-1.30771471, -0.88640526,  1.08726535, -1.24692702, -1.4053405 ],\n",
              "       [-1.29039398,  1.12815215, -0.70690189, -1.24692702,  1.23452563],\n",
              "       [-1.27307326, -0.88640526,  0.44136514, -1.24692702, -0.7065524 ],\n",
              "       [-1.25575253,  1.12815215, -0.27630176, -1.24692702,  0.41927286],\n",
              "       [-1.23843181, -0.88640526,  0.08253169, -1.20858069, -0.74537397],\n",
              "       [-1.22111108, -0.88640526, -1.13750203, -1.20858069,  1.42863343],\n",
              "       [-1.20379036,  1.12815215,  1.51786549, -1.17023435, -1.7935561 ],\n",
              "       [-1.18646963, -0.88640526, -1.28103541, -1.17023435,  0.88513158],\n",
              "       [-1.16914891,  1.12815215,  1.01549866, -1.05519534, -1.7935561 ],\n",
              "       [-1.15182818,  1.12815215, -1.49633548, -1.05519534,  1.62274124],\n",
              "       [-1.13450746, -0.88640526,  0.7284319 , -1.05519534, -1.4053405 ],\n",
              "       [-1.11718674, -0.88640526, -1.28103541, -1.05519534,  1.19570407],\n",
              "       [-1.09986601, -0.88640526,  0.22606507, -1.016849  , -1.28887582],\n",
              "       [-1.08254529, -0.88640526, -0.6351352 , -1.016849  ,  0.88513158],\n",
              "       [-1.06522456, -0.88640526, -0.20453507, -0.90180999, -0.93948177],\n",
              "       [-1.04790384, -0.88640526, -1.3528021 , -0.90180999,  0.96277471],\n",
              "       [-1.03058311, -0.88640526,  1.87669894, -0.86346365, -0.59008772],\n",
              "       [-1.01326239,  1.12815215, -1.06573534, -0.86346365,  1.62274124],\n",
              "       [-0.99594166,  1.12815215,  0.65666521, -0.82511731, -0.55126616],\n",
              "       [-0.97862094, -0.88640526, -0.56336851, -0.82511731,  0.41927286],\n",
              "       [-0.96130021, -0.88640526,  0.7284319 , -0.82511731, -0.86183865],\n",
              "       [-0.94397949, -0.88640526, -1.06573534, -0.82511731,  0.5745591 ],\n",
              "       [-0.92665877, -0.88640526,  0.80019859, -0.78677098,  0.18634349],\n",
              "       [-0.90933804, -0.88640526, -0.85043527, -0.78677098, -0.12422899],\n",
              "       [-0.89201732, -0.88640526, -0.70690189, -0.78677098, -0.3183368 ],\n",
              "       [-0.87469659, -0.88640526, -0.56336851, -0.78677098, -0.3183368 ],\n",
              "       [-0.85737587, -0.88640526,  0.7284319 , -0.7100783 ,  0.06987881],\n",
              "       [-0.84005514,  1.12815215, -0.41983513, -0.7100783 ,  0.38045129],\n",
              "       [-0.82273442, -0.88640526, -0.56336851, -0.67173196,  0.14752193],\n",
              "       [-0.80541369,  1.12815215,  1.4460988 , -0.67173196,  0.38045129],\n",
              "       [-0.78809297, -0.88640526,  0.80019859, -0.67173196, -0.20187212],\n",
              "       [-0.77077224,  1.12815215,  0.58489852, -0.67173196, -0.35715836],\n",
              "       [-0.75345152, -0.88640526,  0.87196528, -0.63338563, -0.00776431],\n",
              "       [-0.73613079,  1.12815215,  2.16376569, -0.63338563, -0.16305055],\n",
              "       [-0.71881007, -0.88640526, -0.85043527, -0.55669295,  0.03105725],\n",
              "       [-0.70148935,  1.12815215,  1.01549866, -0.55669295, -0.16305055],\n",
              "       [-0.68416862,  1.12815215,  2.23553238, -0.55669295,  0.22516505],\n",
              "       [-0.6668479 ,  1.12815215, -1.42456879, -0.55669295,  0.18634349],\n",
              "       [-0.64952717, -0.88640526,  2.02023231, -0.51834661,  0.06987881],\n",
              "       [-0.63220645, -0.88640526,  1.08726535, -0.51834661,  0.34162973],\n",
              "       [-0.61488572,  1.12815215,  1.73316556, -0.48000028,  0.03105725],\n",
              "       [-0.597565  ,  1.12815215, -1.49633548, -0.48000028,  0.34162973],\n",
              "       [-0.58024427, -0.88640526,  0.29783176, -0.48000028, -0.00776431],\n",
              "       [-0.56292355, -0.88640526,  2.091999  , -0.48000028, -0.08540743],\n",
              "       [-0.54560282,  1.12815215, -1.42456879, -0.48000028,  0.34162973],\n",
              "       [-0.5282821 , -0.88640526, -0.49160182, -0.48000028, -0.12422899],\n",
              "       [-0.51096138,  1.12815215,  2.23553238, -0.44165394,  0.18634349],\n",
              "       [-0.49364065, -0.88640526,  0.58489852, -0.44165394, -0.3183368 ],\n",
              "       [-0.47631993, -0.88640526,  1.51786549, -0.4033076 , -0.04658587],\n",
              "       [-0.4589992 , -0.88640526,  1.51786549, -0.4033076 ,  0.22516505],\n",
              "       [-0.44167848,  1.12815215,  1.4460988 , -0.24992225, -0.12422899],\n",
              "       [-0.42435775,  1.12815215, -0.92220196, -0.24992225,  0.14752193],\n",
              "       [-0.40703703, -0.88640526,  0.44136514, -0.24992225,  0.10870037],\n",
              "       [-0.3897163 ,  1.12815215,  0.08253169, -0.24992225, -0.08540743],\n",
              "       [-0.37239558, -0.88640526, -1.13750203, -0.24992225,  0.06987881],\n",
              "       [-0.35507485, -0.88640526,  0.7284319 , -0.24992225, -0.3183368 ],\n",
              "       [-0.33775413,  1.12815215,  1.30256542, -0.24992225,  0.03105725],\n",
              "       [-0.3204334 ,  1.12815215, -0.06100169, -0.24992225,  0.18634349],\n",
              "       [-0.30311268,  1.12815215,  2.02023231, -0.24992225, -0.35715836],\n",
              "       [-0.28579196, -0.88640526,  0.51313183, -0.24992225, -0.24069368],\n",
              "       [-0.26847123, -0.88640526, -1.28103541, -0.24992225,  0.26398661],\n",
              "       [-0.25115051,  1.12815215,  0.65666521, -0.24992225, -0.16305055],\n",
              "       [-0.23382978, -0.88640526,  1.15903204, -0.13488324,  0.30280817],\n",
              "       [-0.21650906, -0.88640526, -1.20926872, -0.13488324,  0.18634349],\n",
              "       [-0.19918833, -0.88640526, -0.34806844, -0.0965369 ,  0.38045129],\n",
              "       [-0.18186761, -0.88640526,  0.80019859, -0.0965369 , -0.16305055],\n",
              "       [-0.16454688, -0.88640526,  2.091999  , -0.05819057,  0.18634349],\n",
              "       [-0.14722616,  1.12815215, -1.49633548, -0.05819057, -0.35715836],\n",
              "       [-0.12990543,  1.12815215,  0.65666521, -0.01984423, -0.04658587],\n",
              "       [-0.11258471, -0.88640526,  0.08253169, -0.01984423, -0.39597992],\n",
              "       [-0.09526399, -0.88640526, -0.49160182, -0.01984423, -0.3183368 ],\n",
              "       [-0.07794326,  1.12815215, -1.06573534, -0.01984423,  0.06987881],\n",
              "       [-0.06062254, -0.88640526,  0.58489852, -0.01984423, -0.12422899],\n",
              "       [-0.04330181, -0.88640526, -0.85043527, -0.01984423, -0.00776431],\n",
              "       [-0.02598109,  1.12815215,  0.65666521,  0.01850211, -0.3183368 ],\n",
              "       [-0.00866036,  1.12815215, -1.3528021 ,  0.01850211, -0.04658587],\n",
              "       [ 0.00866036, -0.88640526, -1.13750203,  0.05684845, -0.35715836],\n",
              "       [ 0.02598109, -0.88640526,  0.7284319 ,  0.05684845, -0.08540743],\n",
              "       [ 0.04330181,  1.12815215,  2.02023231,  0.05684845,  0.34162973],\n",
              "       [ 0.06062254,  1.12815215, -0.92220196,  0.05684845,  0.18634349],\n",
              "       [ 0.07794326,  1.12815215,  0.7284319 ,  0.05684845,  0.22516505],\n",
              "       [ 0.09526399, -0.88640526, -1.28103541,  0.05684845, -0.3183368 ],\n",
              "       [ 0.11258471, -0.88640526,  1.94846562,  0.09519478, -0.00776431],\n",
              "       [ 0.12990543,  1.12815215,  1.08726535,  0.09519478, -0.16305055],\n",
              "       [ 0.14722616,  1.12815215,  2.091999  ,  0.09519478, -0.27951524],\n",
              "       [ 0.16454688,  1.12815215,  1.94846562,  0.09519478, -0.08540743],\n",
              "       [ 0.18186761,  1.12815215,  1.87669894,  0.09519478,  0.06987881],\n",
              "       [ 0.19918833, -0.88640526, -1.42456879,  0.09519478,  0.14752193],\n",
              "       [ 0.21650906, -0.88640526, -0.06100169,  0.13354112, -0.3183368 ],\n",
              "       [ 0.23382978,  1.12815215, -1.42456879,  0.13354112, -0.16305055],\n",
              "       [ 0.25115051, -0.88640526, -1.49633548,  0.17188746, -0.08540743],\n",
              "       [ 0.26847123, -0.88640526, -1.42456879,  0.17188746, -0.00776431],\n",
              "       [ 0.28579196, -0.88640526,  1.73316556,  0.17188746, -0.27951524],\n",
              "       [ 0.30311268, -0.88640526,  0.7284319 ,  0.17188746,  0.34162973],\n",
              "       [ 0.3204334 , -0.88640526,  0.87196528,  0.24858013, -0.27951524],\n",
              "       [ 0.33775413, -0.88640526,  0.80019859,  0.24858013,  0.26398661],\n",
              "       [ 0.35507485,  1.12815215, -0.85043527,  0.24858013,  0.22516505],\n",
              "       [ 0.37239558, -0.88640526, -0.06100169,  0.24858013, -0.39597992],\n",
              "       [ 0.3897163 , -0.88640526,  0.08253169,  0.32527281,  0.30280817],\n",
              "       [ 0.40703703,  1.12815215,  0.010765  ,  0.32527281,  1.58391968],\n",
              "       [ 0.42435775, -0.88640526, -1.13750203,  0.36361914, -0.82301709],\n",
              "       [ 0.44167848, -0.88640526, -0.56336851,  0.36361914,  1.04041783],\n",
              "       [ 0.4589992 ,  1.12815215,  0.29783176,  0.40196548, -0.59008772],\n",
              "       [ 0.47631993,  1.12815215,  0.08253169,  0.40196548,  1.73920592],\n",
              "       [ 0.49364065,  1.12815215,  1.4460988 ,  0.40196548, -1.52180518],\n",
              "       [ 0.51096138,  1.12815215, -0.06100169,  0.40196548,  0.96277471],\n",
              "       [ 0.5282821 ,  1.12815215,  0.58489852,  0.40196548, -1.5994483 ],\n",
              "       [ 0.54560282,  1.12815215,  0.010765  ,  0.40196548,  0.96277471],\n",
              "       [ 0.56292355, -0.88640526, -0.99396865,  0.44031182, -0.62890928],\n",
              "       [ 0.58024427, -0.88640526, -0.56336851,  0.44031182,  0.80748846],\n",
              "       [ 0.597565  ,  1.12815215, -1.3528021 ,  0.47865816, -1.75473454],\n",
              "       [ 0.61488572, -0.88640526, -0.70690189,  0.47865816,  1.46745499],\n",
              "       [ 0.63220645, -0.88640526,  0.36959845,  0.47865816, -1.67709142],\n",
              "       [ 0.64952717,  1.12815215, -0.49160182,  0.47865816,  0.88513158],\n",
              "       [ 0.6668479 ,  1.12815215, -1.42456879,  0.51700449, -1.56062674],\n",
              "       [ 0.68416862, -0.88640526, -0.27630176,  0.51700449,  0.84631002],\n",
              "       [ 0.70148935, -0.88640526,  1.30256542,  0.55535083, -1.75473454],\n",
              "       [ 0.71881007,  1.12815215, -0.49160182,  0.55535083,  1.6615628 ],\n",
              "       [ 0.73613079, -0.88640526, -0.77866858,  0.59369717, -0.39597992],\n",
              "       [ 0.75345152, -0.88640526, -0.49160182,  0.59369717,  1.42863343],\n",
              "       [ 0.77077224,  1.12815215, -0.99396865,  0.6320435 , -1.48298362],\n",
              "       [ 0.78809297,  1.12815215, -0.77866858,  0.6320435 ,  1.81684904],\n",
              "       [ 0.80541369,  1.12815215,  0.65666521,  0.6320435 , -0.55126616],\n",
              "       [ 0.82273442, -0.88640526, -0.49160182,  0.6320435 ,  0.92395314],\n",
              "       [ 0.84005514, -0.88640526, -0.34806844,  0.67038984, -1.09476801],\n",
              "       [ 0.85737587,  1.12815215, -0.34806844,  0.67038984,  1.54509812],\n",
              "       [ 0.87469659,  1.12815215,  0.29783176,  0.67038984, -1.28887582],\n",
              "       [ 0.89201732,  1.12815215,  0.010765  ,  0.67038984,  1.46745499],\n",
              "       [ 0.90933804, -0.88640526,  0.36959845,  0.67038984, -1.17241113],\n",
              "       [ 0.92665877, -0.88640526, -0.06100169,  0.67038984,  1.00159627],\n",
              "       [ 0.94397949, -0.88640526,  0.58489852,  0.67038984, -1.32769738],\n",
              "       [ 0.96130021, -0.88640526, -0.85043527,  0.67038984,  1.50627656],\n",
              "       [ 0.97862094,  1.12815215, -0.13276838,  0.67038984, -1.91002079],\n",
              "       [ 0.99594166, -0.88640526, -0.6351352 ,  0.67038984,  1.07923939],\n",
              "       [ 1.01326239,  1.12815215, -0.34806844,  0.67038984, -1.91002079],\n",
              "       [ 1.03058311, -0.88640526, -0.6351352 ,  0.67038984,  0.88513158],\n",
              "       [ 1.04790384, -0.88640526,  1.23079873,  0.70873618, -0.59008772],\n",
              "       [ 1.06522456, -0.88640526, -0.70690189,  0.70873618,  1.27334719],\n",
              "       [ 1.08254529,  1.12815215, -1.42456879,  0.78542885, -1.75473454],\n",
              "       [ 1.09986601, -0.88640526, -0.56336851,  0.78542885,  1.6615628 ],\n",
              "       [ 1.11718674,  1.12815215,  0.80019859,  0.9388142 , -0.93948177],\n",
              "       [ 1.13450746, -0.88640526, -0.20453507,  0.9388142 ,  0.96277471],\n",
              "       [ 1.15182818,  1.12815215,  0.22606507,  0.97716054, -1.17241113],\n",
              "       [ 1.16914891, -0.88640526, -0.41983513,  0.97716054,  1.73920592],\n",
              "       [ 1.18646963, -0.88640526, -0.20453507,  1.01550688, -0.90066021],\n",
              "       [ 1.20379036,  1.12815215, -0.49160182,  1.01550688,  0.49691598],\n",
              "       [ 1.22111108,  1.12815215,  0.08253169,  1.01550688, -1.44416206],\n",
              "       [ 1.23843181,  1.12815215, -0.77866858,  1.01550688,  0.96277471],\n",
              "       [ 1.25575253,  1.12815215, -0.20453507,  1.01550688, -1.56062674],\n",
              "       [ 1.27307326,  1.12815215, -0.20453507,  1.01550688,  1.62274124],\n",
              "       [ 1.29039398, -0.88640526,  0.94373197,  1.05385321, -1.44416206],\n",
              "       [ 1.30771471, -0.88640526, -0.6351352 ,  1.05385321,  1.38981187],\n",
              "       [ 1.32503543,  1.12815215,  1.37433211,  1.05385321, -1.36651894],\n",
              "       [ 1.34235616,  1.12815215, -0.85043527,  1.05385321,  0.72984534],\n",
              "       [ 1.35967688,  1.12815215,  1.4460988 ,  1.2455849 , -1.4053405 ],\n",
              "       [ 1.3769976 ,  1.12815215, -0.27630176,  1.2455849 ,  1.54509812],\n",
              "       [ 1.39431833, -0.88640526, -0.13276838,  1.39897025, -0.7065524 ],\n",
              "       [ 1.41163905, -0.88640526, -0.49160182,  1.39897025,  1.38981187],\n",
              "       [ 1.42895978,  1.12815215,  0.51313183,  1.43731659, -1.36651894],\n",
              "       [ 1.4462805 , -0.88640526, -0.70690189,  1.43731659,  1.46745499],\n",
              "       [ 1.46360123, -0.88640526,  0.15429838,  1.47566292, -0.43480148],\n",
              "       [ 1.48092195,  1.12815215, -0.6351352 ,  1.47566292,  1.81684904],\n",
              "       [ 1.49824268, -0.88640526,  1.08726535,  1.5523556 , -1.01712489],\n",
              "       [ 1.5155634 ,  1.12815215, -0.77866858,  1.5523556 ,  0.69102378],\n",
              "       [ 1.53288413, -0.88640526,  0.15429838,  1.62904827, -1.28887582],\n",
              "       [ 1.55020485, -0.88640526, -0.20453507,  1.62904827,  1.35099031],\n",
              "       [ 1.56752558, -0.88640526, -0.34806844,  1.62904827, -1.05594645],\n",
              "       [ 1.5848463 , -0.88640526, -0.49160182,  1.62904827,  0.72984534],\n",
              "       [ 1.60216702,  1.12815215, -0.41983513,  2.01251165, -1.63826986],\n",
              "       [ 1.61948775, -0.88640526, -0.06100169,  2.01251165,  1.58391968],\n",
              "       [ 1.63680847, -0.88640526,  0.58489852,  2.28093601, -1.32769738],\n",
              "       [ 1.6541292 , -0.88640526, -0.27630176,  2.28093601,  1.11806095],\n",
              "       [ 1.67144992, -0.88640526,  0.44136514,  2.51101403, -0.86183865],\n",
              "       [ 1.68877065,  1.12815215, -0.49160182,  2.51101403,  0.92395314],\n",
              "       [ 1.70609137,  1.12815215, -0.49160182,  2.76985181, -1.25005425],\n",
              "       [ 1.7234121 ,  1.12815215, -0.6351352 ,  2.76985181,  1.27334719]])"
            ]
          },
          "metadata": {},
          "execution_count": 33
        }
      ],
      "source": [
        "from sklearn.preprocessing import StandardScaler\n",
        "scaler=StandardScaler()\n",
        "scaled_data=scaler.fit_transform(data)\n",
        "scaled_data"
      ]
    },
    {
      "cell_type": "markdown",
      "id": "ee6c66cc",
      "metadata": {
        "id": "ee6c66cc"
      },
      "source": [
        "# 9. Clustering"
      ]
    },
    {
      "cell_type": "markdown",
      "source": [
        "**KMeans Clustering**"
      ],
      "metadata": {
        "id": "O3ZytOIEsYwT"
      },
      "id": "O3ZytOIEsYwT"
    },
    {
      "cell_type": "code",
      "execution_count": 34,
      "id": "4ed3bf07",
      "metadata": {
        "colab": {
          "base_uri": "https://localhost:8080/"
        },
        "id": "4ed3bf07",
        "outputId": "0ebaff86-fba5-44ad-d0a7-40554e784829"
      },
      "outputs": [
        {
          "output_type": "execute_result",
          "data": {
            "text/plain": [
              "KMeans(n_clusters=5, random_state=42)"
            ]
          },
          "metadata": {},
          "execution_count": 34
        }
      ],
      "source": [
        "from sklearn.cluster import KMeans\n",
        "kmeans=KMeans(n_clusters=5,random_state=42)\n",
        "kmeans.fit(scaled_data)"
      ]
    },
    {
      "cell_type": "code",
      "execution_count": 35,
      "id": "42a67e42",
      "metadata": {
        "colab": {
          "base_uri": "https://localhost:8080/"
        },
        "id": "42a67e42",
        "outputId": "e6b28d1d-569a-4a69-9ead-1b927c25ea4b"
      },
      "outputs": [
        {
          "output_type": "execute_result",
          "data": {
            "text/plain": [
              "array([2, 2, 2, 2, 2, 2, 4, 2, 1, 2, 1, 2, 4, 2, 1, 2, 4, 2, 1, 2, 1, 2,\n",
              "       4, 2, 4, 2, 4, 2, 4, 2, 1, 2, 1, 2, 4, 2, 4, 2, 4, 2, 4, 2, 1, 2,\n",
              "       4, 2, 4, 2, 2, 2, 4, 2, 2, 1, 4, 1, 4, 1, 2, 1, 1, 2, 4, 4, 1, 2,\n",
              "       4, 4, 2, 2, 1, 4, 4, 4, 1, 2, 4, 1, 2, 4, 1, 1, 1, 4, 2, 1, 4, 2,\n",
              "       2, 4, 4, 2, 1, 4, 4, 2, 4, 2, 1, 2, 2, 4, 1, 2, 1, 2, 4, 1, 1, 1,\n",
              "       1, 2, 4, 2, 2, 2, 4, 4, 4, 4, 3, 4, 4, 3, 0, 3, 0, 3, 1, 3, 0, 3,\n",
              "       0, 3, 0, 3, 0, 3, 0, 3, 0, 3, 0, 3, 0, 3, 0, 3, 0, 3, 0, 3, 0, 3,\n",
              "       0, 3, 0, 3, 0, 3, 0, 3, 0, 3, 0, 3, 0, 3, 0, 3, 0, 3, 0, 3, 0, 3,\n",
              "       0, 3, 0, 3, 0, 3, 0, 3, 0, 3, 0, 3, 0, 3, 0, 3, 0, 3, 0, 3, 0, 3,\n",
              "       0, 3], dtype=int32)"
            ]
          },
          "metadata": {},
          "execution_count": 35
        }
      ],
      "source": [
        "kmeans.labels_"
      ]
    },
    {
      "cell_type": "code",
      "execution_count": 36,
      "id": "79a64e7b",
      "metadata": {
        "colab": {
          "base_uri": "https://localhost:8080/"
        },
        "id": "79a64e7b",
        "outputId": "dc87823b-8908-4967-d90f-03e3fbec11ad"
      },
      "outputs": [
        {
          "output_type": "execute_result",
          "data": {
            "text/plain": [
              "array([[ 1.08067278,  0.14809719,  0.07477313,  1.02768443, -1.21752808],\n",
              "       [-0.55195376,  1.12815215,  1.23079873, -0.50812092, -0.4128026 ],\n",
              "       [-0.8380566 , -0.11157549, -1.01743084, -0.80594414,  0.45062873],\n",
              "       [ 1.04747082,  0.07050951, -0.45213014,  0.97500356,  1.21414431],\n",
              "       [-0.53039438, -0.88640526,  0.76344004, -0.48467666, -0.35526462]])"
            ]
          },
          "metadata": {},
          "execution_count": 36
        }
      ],
      "source": [
        "kmeans.cluster_centers_"
      ]
    },
    {
      "cell_type": "markdown",
      "id": "16f38a63",
      "metadata": {
        "id": "16f38a63"
      },
      "source": [
        "# 10. Add cluster data with primary dataset"
      ]
    },
    {
      "cell_type": "code",
      "execution_count": 37,
      "id": "2ef0bd1b",
      "metadata": {
        "colab": {
          "base_uri": "https://localhost:8080/",
          "height": 206
        },
        "id": "2ef0bd1b",
        "outputId": "708ef737-db74-42a4-f587-7f90ac57513c"
      },
      "outputs": [
        {
          "output_type": "execute_result",
          "data": {
            "text/plain": [
              "   CustomerID  Gender   Age  Annual Income (k$)  Spending Score (1-100)  \\\n",
              "0           1       1  19.0                15.0                    39.0   \n",
              "1           2       1  21.0                15.0                    81.0   \n",
              "2           3       0  20.0                16.0                     6.0   \n",
              "3           4       0  23.0                16.0                    77.0   \n",
              "4           5       0  31.0                17.0                    40.0   \n",
              "\n",
              "   Cluster  \n",
              "0        2  \n",
              "1        2  \n",
              "2        2  \n",
              "3        2  \n",
              "4        2  "
            ],
            "text/html": [
              "\n",
              "  <div id=\"df-421cb804-5bd8-4602-aa26-eb64f52dbf29\">\n",
              "    <div class=\"colab-df-container\">\n",
              "      <div>\n",
              "<style scoped>\n",
              "    .dataframe tbody tr th:only-of-type {\n",
              "        vertical-align: middle;\n",
              "    }\n",
              "\n",
              "    .dataframe tbody tr th {\n",
              "        vertical-align: top;\n",
              "    }\n",
              "\n",
              "    .dataframe thead th {\n",
              "        text-align: right;\n",
              "    }\n",
              "</style>\n",
              "<table border=\"1\" class=\"dataframe\">\n",
              "  <thead>\n",
              "    <tr style=\"text-align: right;\">\n",
              "      <th></th>\n",
              "      <th>CustomerID</th>\n",
              "      <th>Gender</th>\n",
              "      <th>Age</th>\n",
              "      <th>Annual Income (k$)</th>\n",
              "      <th>Spending Score (1-100)</th>\n",
              "      <th>Cluster</th>\n",
              "    </tr>\n",
              "  </thead>\n",
              "  <tbody>\n",
              "    <tr>\n",
              "      <th>0</th>\n",
              "      <td>1</td>\n",
              "      <td>1</td>\n",
              "      <td>19.0</td>\n",
              "      <td>15.0</td>\n",
              "      <td>39.0</td>\n",
              "      <td>2</td>\n",
              "    </tr>\n",
              "    <tr>\n",
              "      <th>1</th>\n",
              "      <td>2</td>\n",
              "      <td>1</td>\n",
              "      <td>21.0</td>\n",
              "      <td>15.0</td>\n",
              "      <td>81.0</td>\n",
              "      <td>2</td>\n",
              "    </tr>\n",
              "    <tr>\n",
              "      <th>2</th>\n",
              "      <td>3</td>\n",
              "      <td>0</td>\n",
              "      <td>20.0</td>\n",
              "      <td>16.0</td>\n",
              "      <td>6.0</td>\n",
              "      <td>2</td>\n",
              "    </tr>\n",
              "    <tr>\n",
              "      <th>3</th>\n",
              "      <td>4</td>\n",
              "      <td>0</td>\n",
              "      <td>23.0</td>\n",
              "      <td>16.0</td>\n",
              "      <td>77.0</td>\n",
              "      <td>2</td>\n",
              "    </tr>\n",
              "    <tr>\n",
              "      <th>4</th>\n",
              "      <td>5</td>\n",
              "      <td>0</td>\n",
              "      <td>31.0</td>\n",
              "      <td>17.0</td>\n",
              "      <td>40.0</td>\n",
              "      <td>2</td>\n",
              "    </tr>\n",
              "  </tbody>\n",
              "</table>\n",
              "</div>\n",
              "      <button class=\"colab-df-convert\" onclick=\"convertToInteractive('df-421cb804-5bd8-4602-aa26-eb64f52dbf29')\"\n",
              "              title=\"Convert this dataframe to an interactive table.\"\n",
              "              style=\"display:none;\">\n",
              "        \n",
              "  <svg xmlns=\"http://www.w3.org/2000/svg\" height=\"24px\"viewBox=\"0 0 24 24\"\n",
              "       width=\"24px\">\n",
              "    <path d=\"M0 0h24v24H0V0z\" fill=\"none\"/>\n",
              "    <path d=\"M18.56 5.44l.94 2.06.94-2.06 2.06-.94-2.06-.94-.94-2.06-.94 2.06-2.06.94zm-11 1L8.5 8.5l.94-2.06 2.06-.94-2.06-.94L8.5 2.5l-.94 2.06-2.06.94zm10 10l.94 2.06.94-2.06 2.06-.94-2.06-.94-.94-2.06-.94 2.06-2.06.94z\"/><path d=\"M17.41 7.96l-1.37-1.37c-.4-.4-.92-.59-1.43-.59-.52 0-1.04.2-1.43.59L10.3 9.45l-7.72 7.72c-.78.78-.78 2.05 0 2.83L4 21.41c.39.39.9.59 1.41.59.51 0 1.02-.2 1.41-.59l7.78-7.78 2.81-2.81c.8-.78.8-2.07 0-2.86zM5.41 20L4 18.59l7.72-7.72 1.47 1.35L5.41 20z\"/>\n",
              "  </svg>\n",
              "      </button>\n",
              "      \n",
              "  <style>\n",
              "    .colab-df-container {\n",
              "      display:flex;\n",
              "      flex-wrap:wrap;\n",
              "      gap: 12px;\n",
              "    }\n",
              "\n",
              "    .colab-df-convert {\n",
              "      background-color: #E8F0FE;\n",
              "      border: none;\n",
              "      border-radius: 50%;\n",
              "      cursor: pointer;\n",
              "      display: none;\n",
              "      fill: #1967D2;\n",
              "      height: 32px;\n",
              "      padding: 0 0 0 0;\n",
              "      width: 32px;\n",
              "    }\n",
              "\n",
              "    .colab-df-convert:hover {\n",
              "      background-color: #E2EBFA;\n",
              "      box-shadow: 0px 1px 2px rgba(60, 64, 67, 0.3), 0px 1px 3px 1px rgba(60, 64, 67, 0.15);\n",
              "      fill: #174EA6;\n",
              "    }\n",
              "\n",
              "    [theme=dark] .colab-df-convert {\n",
              "      background-color: #3B4455;\n",
              "      fill: #D2E3FC;\n",
              "    }\n",
              "\n",
              "    [theme=dark] .colab-df-convert:hover {\n",
              "      background-color: #434B5C;\n",
              "      box-shadow: 0px 1px 3px 1px rgba(0, 0, 0, 0.15);\n",
              "      filter: drop-shadow(0px 1px 2px rgba(0, 0, 0, 0.3));\n",
              "      fill: #FFFFFF;\n",
              "    }\n",
              "  </style>\n",
              "\n",
              "      <script>\n",
              "        const buttonEl =\n",
              "          document.querySelector('#df-421cb804-5bd8-4602-aa26-eb64f52dbf29 button.colab-df-convert');\n",
              "        buttonEl.style.display =\n",
              "          google.colab.kernel.accessAllowed ? 'block' : 'none';\n",
              "\n",
              "        async function convertToInteractive(key) {\n",
              "          const element = document.querySelector('#df-421cb804-5bd8-4602-aa26-eb64f52dbf29');\n",
              "          const dataTable =\n",
              "            await google.colab.kernel.invokeFunction('convertToInteractive',\n",
              "                                                     [key], {});\n",
              "          if (!dataTable) return;\n",
              "\n",
              "          const docLinkHtml = 'Like what you see? Visit the ' +\n",
              "            '<a target=\"_blank\" href=https://colab.research.google.com/notebooks/data_table.ipynb>data table notebook</a>'\n",
              "            + ' to learn more about interactive tables.';\n",
              "          element.innerHTML = '';\n",
              "          dataTable['output_type'] = 'display_data';\n",
              "          await google.colab.output.renderOutput(dataTable, element);\n",
              "          const docLink = document.createElement('div');\n",
              "          docLink.innerHTML = docLinkHtml;\n",
              "          element.appendChild(docLink);\n",
              "        }\n",
              "      </script>\n",
              "    </div>\n",
              "  </div>\n",
              "  "
            ]
          },
          "metadata": {},
          "execution_count": 37
        }
      ],
      "source": [
        "data['Cluster']=kmeans.labels_\n",
        "data.head()"
      ]
    },
    {
      "cell_type": "markdown",
      "id": "f67c0f50",
      "metadata": {
        "id": "f67c0f50"
      },
      "source": [
        "# 11. Split data into dependent and independent variables"
      ]
    },
    {
      "cell_type": "code",
      "execution_count": 38,
      "id": "d95d5187",
      "metadata": {
        "colab": {
          "base_uri": "https://localhost:8080/"
        },
        "id": "d95d5187",
        "outputId": "1767f9db-2c54-4088-8d57-a5cdc6b0e683"
      },
      "outputs": [
        {
          "output_type": "execute_result",
          "data": {
            "text/plain": [
              "(     CustomerID  Gender   Age  Annual Income (k$)  Spending Score (1-100)\n",
              " 0             1       1  19.0               15.00                    39.0\n",
              " 1             2       1  21.0               15.00                    81.0\n",
              " 2             3       0  20.0               16.00                     6.0\n",
              " 3             4       0  23.0               16.00                    77.0\n",
              " 4             5       0  31.0               17.00                    40.0\n",
              " ..          ...     ...   ...                 ...                     ...\n",
              " 195         196       0  35.0              120.00                    79.0\n",
              " 196         197       0  45.0              126.00                    28.0\n",
              " 197         198       1  32.0              126.00                    74.0\n",
              " 198         199       1  32.0              132.75                    18.0\n",
              " 199         200       1  30.0              132.75                    83.0\n",
              " \n",
              " [200 rows x 5 columns], 0      2\n",
              " 1      2\n",
              " 2      2\n",
              " 3      2\n",
              " 4      2\n",
              "       ..\n",
              " 195    3\n",
              " 196    0\n",
              " 197    3\n",
              " 198    0\n",
              " 199    3\n",
              " Name: Cluster, Length: 200, dtype: int32)"
            ]
          },
          "metadata": {},
          "execution_count": 38
        }
      ],
      "source": [
        "x=data.drop('Cluster',axis=1)\n",
        "y=data['Cluster']\n",
        "x,y"
      ]
    },
    {
      "cell_type": "markdown",
      "id": "e055b870",
      "metadata": {
        "id": "e055b870"
      },
      "source": [
        "# 12. Split data into training and testing"
      ]
    },
    {
      "cell_type": "code",
      "execution_count": 39,
      "id": "c65f713f",
      "metadata": {
        "id": "c65f713f"
      },
      "outputs": [],
      "source": [
        "from sklearn.model_selection import train_test_split\n",
        "x_train,x_test,y_train,y_test=train_test_split(x,y,test_size=0.2,random_state=42)"
      ]
    },
    {
      "cell_type": "code",
      "execution_count": 40,
      "id": "4d291663",
      "metadata": {
        "colab": {
          "base_uri": "https://localhost:8080/"
        },
        "id": "4d291663",
        "outputId": "3d7891f4-f6bf-4ecb-8c4b-de25b69f83a8"
      },
      "outputs": [
        {
          "output_type": "stream",
          "name": "stdout",
          "text": [
            "(160, 5) (40, 5) (160,) (40,)\n"
          ]
        }
      ],
      "source": [
        "print(x_train.shape, x_test.shape, y_train.shape, y_test.shape)"
      ]
    },
    {
      "cell_type": "markdown",
      "id": "a17c188b",
      "metadata": {
        "id": "a17c188b"
      },
      "source": [
        "# 13. Build the model"
      ]
    },
    {
      "cell_type": "code",
      "execution_count": 41,
      "id": "30f3ba2b",
      "metadata": {
        "id": "30f3ba2b"
      },
      "outputs": [],
      "source": [
        "from sklearn.ensemble import RandomForestClassifier\n",
        "model = RandomForestClassifier()"
      ]
    },
    {
      "cell_type": "markdown",
      "id": "2f0def62",
      "metadata": {
        "id": "2f0def62"
      },
      "source": [
        "# 14. Train the model"
      ]
    },
    {
      "cell_type": "code",
      "execution_count": 42,
      "id": "075cc0ab",
      "metadata": {
        "colab": {
          "base_uri": "https://localhost:8080/"
        },
        "id": "075cc0ab",
        "outputId": "35c1c48a-f25e-43b8-e9b4-f1ef597c79e8"
      },
      "outputs": [
        {
          "output_type": "execute_result",
          "data": {
            "text/plain": [
              "RandomForestClassifier()"
            ]
          },
          "metadata": {},
          "execution_count": 42
        }
      ],
      "source": [
        "model.fit(x_train,y_train)"
      ]
    },
    {
      "cell_type": "markdown",
      "id": "90bcf7f3",
      "metadata": {
        "id": "90bcf7f3"
      },
      "source": [
        "# 15. Test the model"
      ]
    },
    {
      "cell_type": "code",
      "execution_count": 43,
      "id": "16a94839",
      "metadata": {
        "colab": {
          "base_uri": "https://localhost:8080/"
        },
        "id": "16a94839",
        "outputId": "7f83e0e0-a765-44b3-eb5b-a129a588a595"
      },
      "outputs": [
        {
          "output_type": "execute_result",
          "data": {
            "text/plain": [
              "array([2, 2, 1, 0, 0, 2, 2, 0, 0, 2, 4, 0, 3, 2, 0, 3, 4, 0, 1, 2, 0, 4,\n",
              "       0, 4, 2, 1, 2, 4, 3, 0, 2, 1, 1, 2, 0, 1, 3, 3, 0, 4], dtype=int32)"
            ]
          },
          "metadata": {},
          "execution_count": 43
        }
      ],
      "source": [
        "pred=model.predict(x_test)\n",
        "pred"
      ]
    },
    {
      "cell_type": "markdown",
      "id": "b3edeb60",
      "metadata": {
        "id": "b3edeb60"
      },
      "source": [
        "# 16. Performance and evaluation metrics"
      ]
    },
    {
      "cell_type": "code",
      "execution_count": 44,
      "id": "e7eeef7d",
      "metadata": {
        "colab": {
          "base_uri": "https://localhost:8080/"
        },
        "id": "e7eeef7d",
        "outputId": "5a40fd09-dcf4-457e-b18b-8a70a7e45ccd"
      },
      "outputs": [
        {
          "output_type": "stream",
          "name": "stdout",
          "text": [
            "Accuracy: 0.975\n"
          ]
        }
      ],
      "source": [
        "from sklearn.metrics import accuracy_score\n",
        "print(\"Accuracy:\",accuracy_score(y_test,pred))"
      ]
    },
    {
      "cell_type": "code",
      "execution_count": 45,
      "id": "63dab04d",
      "metadata": {
        "colab": {
          "base_uri": "https://localhost:8080/"
        },
        "id": "63dab04d",
        "outputId": "81aa2156-1d51-42a9-83b1-6aa4fbf110a5"
      },
      "outputs": [
        {
          "output_type": "stream",
          "name": "stdout",
          "text": [
            "[[11  0  0  0  0]\n",
            " [ 1  6  0  0  0]\n",
            " [ 0  0 11  0  0]\n",
            " [ 0  0  0  5  0]\n",
            " [ 0  0  0  0  6]]\n"
          ]
        }
      ],
      "source": [
        "from sklearn.metrics import confusion_matrix,classification_report\n",
        "cm = confusion_matrix(y_test,pred)\n",
        "print(cm)"
      ]
    },
    {
      "cell_type": "code",
      "source": [
        "sns.heatmap(cm, annot=True);"
      ],
      "metadata": {
        "colab": {
          "base_uri": "https://localhost:8080/",
          "height": 265
        },
        "id": "kg5QWgAVstls",
        "outputId": "9b86f57f-d815-445f-cf55-02e489e79979"
      },
      "id": "kg5QWgAVstls",
      "execution_count": 46,
      "outputs": [
        {
          "output_type": "display_data",
          "data": {
            "text/plain": [
              "<Figure size 432x288 with 2 Axes>"
            ],
            "image/png": "[encoded data removed]"
          },
          "metadata": {
            "needs_background": "light"
          }
        }
      ]
    },
    {
      "cell_type": "code",
      "execution_count": 47,
      "id": "0a8d0db2",
      "metadata": {
        "colab": {
          "base_uri": "https://localhost:8080/"
        },
        "id": "0a8d0db2",
        "outputId": "2d71f0ea-ebb6-41ac-b0e7-fe3922b055cb"
      },
      "outputs": [
        {
          "output_type": "stream",
          "name": "stdout",
          "text": [
            "              precision    recall  f1-score   support\n",
            "\n",
            "           0       0.92      1.00      0.96        11\n",
            "           1       1.00      0.86      0.92         7\n",
            "           2       1.00      1.00      1.00        11\n",
            "           3       1.00      1.00      1.00         5\n",
            "           4       1.00      1.00      1.00         6\n",
            "\n",
            "    accuracy                           0.97        40\n",
            "   macro avg       0.98      0.97      0.98        40\n",
            "weighted avg       0.98      0.97      0.97        40\n",
            "\n"
          ]
        }
      ],
      "source": [
        "print(classification_report(y_test,pred))"
      ]
    },
    {
      "cell_type": "code",
      "execution_count": null,
      "id": "6c6dbf09",
      "metadata": {
        "id": "6c6dbf09"
      },
      "outputs": [],
      "source": []
    }
  ],
  "metadata": {
    "kernelspec": {
      "display_name": "Python 3 (ipykernel)",
      "language": "python",
      "name": "python3"
    },
    "language_info": {
      "codemirror_mode": {
        "name": "ipython",
        "version": 3
      },
      "file_extension": ".py",
      "mimetype": "text/x-python",
      "name": "python",
      "nbconvert_exporter": "python",
      "pygments_lexer": "ipython3",
      "version": "3.9.12"
    },
    "colab": {
      "provenance": []
    }
  },
  "nbformat": 4,
  "nbformat_minor": 5
}